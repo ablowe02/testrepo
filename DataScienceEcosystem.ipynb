{
  "nbformat": 4,
  "nbformat_minor": 0,
  "metadata": {
    "colab": {
      "provenance": [],
      "authorship_tag": "ABX9TyNpeiXM0T5LSSID9e2K9w31"
    },
    "kernelspec": {
      "name": "python3",
      "display_name": "Python 3"
    },
    "language_info": {
      "name": "python"
    }
  },
  "cells": [
    {
      "cell_type": "markdown",
      "source": [
        "# Data Science Tools and Ecosystem"
      ],
      "metadata": {
        "id": "NZ6tDUn-4ZN6"
      }
    },
    {
      "cell_type": "markdown",
      "source": [
        "## Author\n",
        "Anna Lowe"
      ],
      "metadata": {
        "id": "iSef8kcMLK6Z"
      }
    },
    {
      "cell_type": "markdown",
      "source": [
        "In this notebook, Data Science tools and Ecosystem are summarized"
      ],
      "metadata": {
        "id": "ZerQe7Ah5Da1"
      }
    },
    {
      "cell_type": "markdown",
      "source": [
        "**Objectives:**\n",
        "* list popular languages for data science\n",
        "* list commonly used libraries by data scientists\n",
        "* list commonly used data science tools\n",
        "* simple arithmetic examples\n",
        "\n"
      ],
      "metadata": {
        "id": "KfG5EEw2KGUj"
      }
    },
    {
      "cell_type": "markdown",
      "source": [
        "Some of the popular languages that Data Scientists use are:\n",
        "\n",
        "1. Python\n",
        "2. R\n",
        "3. Julia\n",
        "\n",
        "\n"
      ],
      "metadata": {
        "id": "zkdlemuj535q"
      }
    },
    {
      "cell_type": "markdown",
      "source": [
        "Some of the commonly used libraries of Data Scientists include:\n",
        "\n",
        "\n",
        "1.   Numpy\n",
        "2.   Pandas\n",
        "3.  MatplotLib\n",
        "4. Scikit-Learn\n",
        "5.  Tensorflow\n",
        "6. Keras\n",
        "\n"
      ],
      "metadata": {
        "id": "qj7j24uC6XRJ"
      }
    },
    {
      "cell_type": "markdown",
      "source": [
        "| Data Science Tools |\n",
        "|--------------------|\n",
        "| Jupyter Lab / notebooks |\n",
        "| Rstudio |\n",
        "| Spyder |"
      ],
      "metadata": {
        "id": "gOEWS2X9H48y"
      }
    },
    {
      "cell_type": "markdown",
      "source": [
        "### Below are a few examples of evaluating arithmetic expressions in Python:\n"
      ],
      "metadata": {
        "id": "Rs8rl5bLI1Gz"
      }
    },
    {
      "cell_type": "markdown",
      "source": [
        "This is a simple arithmetic expression to multiply then add integers."
      ],
      "metadata": {
        "id": "aIWAE2IGJT1i"
      }
    },
    {
      "cell_type": "code",
      "source": [
        "(3*4)+5"
      ],
      "metadata": {
        "colab": {
          "base_uri": "https://localhost:8080/"
        },
        "id": "EObt9zKdJDT5",
        "outputId": "36852633-2fbc-4e0f-e889-282a512fc09e"
      },
      "execution_count": 1,
      "outputs": [
        {
          "output_type": "execute_result",
          "data": {
            "text/plain": [
              "17"
            ]
          },
          "metadata": {},
          "execution_count": 1
        }
      ]
    },
    {
      "cell_type": "markdown",
      "source": [
        "This will convert 200 minutes to hours by diving by 60"
      ],
      "metadata": {
        "id": "U2vSO6bEJlih"
      }
    },
    {
      "cell_type": "code",
      "source": [
        "200/60"
      ],
      "metadata": {
        "colab": {
          "base_uri": "https://localhost:8080/"
        },
        "id": "dCViVK_GJc4J",
        "outputId": "a3bf6a13-b827-44b8-ccda-1bf2cf907a10"
      },
      "execution_count": 2,
      "outputs": [
        {
          "output_type": "execute_result",
          "data": {
            "text/plain": [
              "3.3333333333333335"
            ]
          },
          "metadata": {},
          "execution_count": 2
        }
      ]
    },
    {
      "cell_type": "code",
      "source": [],
      "metadata": {
        "id": "O9uJbsxBJpho"
      },
      "execution_count": null,
      "outputs": []
    }
  ]
}